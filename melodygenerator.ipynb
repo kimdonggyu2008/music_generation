{
  "nbformat": 4,
  "nbformat_minor": 0,
  "metadata": {
    "colab": {
      "provenance": [],
      "authorship_tag": "ABX9TyNN879go3Vn3kRJ0PJteaAE",
      "include_colab_link": true
    },
    "kernelspec": {
      "name": "python3",
      "display_name": "Python 3"
    },
    "language_info": {
      "name": "python"
    }
  },
  "cells": [
    {
      "cell_type": "markdown",
      "metadata": {
        "id": "view-in-github",
        "colab_type": "text"
      },
      "source": [
        "<a href=\"https://colab.research.google.com/github/kimdonggyu2008/music_generation/blob/main/melodygenerator.ipynb\" target=\"_parent\"><img src=\"https://colab.research.google.com/assets/colab-badge.svg\" alt=\"Open In Colab\"/></a>"
      ]
    },
    {
      "cell_type": "code",
      "execution_count": null,
      "metadata": {
        "id": "JYOHEJPRSOZc"
      },
      "outputs": [],
      "source": [
        "import tensorflow as tf\n",
        "\n"
      ]
    },
    {
      "cell_type": "code",
      "source": [
        "class MelodyGenerator:\n",
        "\n",
        "  def __init__(self,transformer,tokenizer,max_length=50):\n",
        "    self.transformer=transformer\n",
        "    self.tokenizer=tokenizer\n",
        "    self.max_length=max_length\n",
        "\n",
        "  def generate(self,start_sequence):\n",
        "    input_tensor=self._get_input_tensor(start_sequence)\n",
        "\n",
        "    num_notes_to_generate=self.max_length-len(input_tensor[0])\n",
        "\n",
        "    for _ in range(num_notes_to_generate):\n",
        "      predictions=self.transformer(\n",
        "          input_tensor, input_tensor,False,None,None,None\n",
        "      )\n",
        "      predicted_note=self._get_note_with_highest_score(predictions)\n",
        "      input_tensor=self._append_predicted_note(\n",
        "          input_tensor,predicted_note\n",
        "      )\n",
        "\n",
        "    generated_melody=self._decode_generated_sequence(input_tensor)\n",
        "    return generated_melody\n",
        "\n",
        "  def _get_input_tensor(self,start_sequence):\n",
        "    input_sequence=self.tokenizer.texts_to_sequences([start_sequence])\n",
        "    input_tensor=tf.convert_to_tensor(input_sequence,dtype=tf.int64)\n",
        "    return input_tensor\n",
        "\n",
        "  def _get_note_with_highest_score(self,predictions):\n",
        "    latest_predictions=predictions[:,-1,:]\n",
        "    predicted_note_index=tf.argmax(latest_predictions,axis=1)\n",
        "    predicted_note=predicted_note_index.numpy()[0]\n",
        "    return predicted_note\n",
        "\n",
        "  def _append_predicted_note(self,input_tensor,predicted_note):\n",
        "    return tf.concat([input_tensor,[[predicted_note]]],axis=-1)\n",
        "\n",
        "  def _decode_generated_sequence(self,generated_sequence):\n",
        "    generated_sequence_array=generated_sequence.numpy()\n",
        "    generated_melody=self.tokenizer.sequences_to_texts(\n",
        "        generated_sequence_array\n",
        "    )[0]\n",
        "    return generated_melody\n"
      ],
      "metadata": {
        "id": "wSeE4r_DSTTg"
      },
      "execution_count": null,
      "outputs": []
    }
  ]
}