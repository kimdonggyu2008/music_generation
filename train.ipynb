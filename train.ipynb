{
  "nbformat": 4,
  "nbformat_minor": 0,
  "metadata": {
    "colab": {
      "provenance": [],
      "authorship_tag": "ABX9TyOT9hMF1iv3yoGwshx6t5cv",
      "include_colab_link": true
    },
    "kernelspec": {
      "name": "python3",
      "display_name": "Python 3"
    },
    "language_info": {
      "name": "python"
    }
  },
  "cells": [
    {
      "cell_type": "markdown",
      "metadata": {
        "id": "view-in-github",
        "colab_type": "text"
      },
      "source": [
        "<a href=\"https://colab.research.google.com/github/kimdonggyu2008/music_generation/blob/main/train.ipynb\" target=\"_parent\"><img src=\"https://colab.research.google.com/assets/colab-badge.svg\" alt=\"Open In Colab\"/></a>"
      ]
    },
    {
      "cell_type": "code",
      "source": [
        "from google.colab import drive\n",
        "drive.mount('/content/drive')"
      ],
      "metadata": {
        "colab": {
          "base_uri": "https://localhost:8080/"
        },
        "id": "hmLQubmWaJV2",
        "outputId": "3fdb5adc-3b6a-44b7-d041-ed65730b2c77"
      },
      "execution_count": null,
      "outputs": [
        {
          "output_type": "stream",
          "name": "stdout",
          "text": [
            "Mounted at /content/drive\n"
          ]
        }
      ]
    },
    {
      "cell_type": "code",
      "source": [
        "cd /content/drive/MyDrive/음악_생성"
      ],
      "metadata": {
        "colab": {
          "base_uri": "https://localhost:8080/"
        },
        "id": "uj1FoE2XaOn6",
        "outputId": "761856b8-b64a-4e27-a78e-6367d1d6ea14"
      },
      "execution_count": null,
      "outputs": [
        {
          "output_type": "stream",
          "name": "stdout",
          "text": [
            "/content/drive/MyDrive/음악_생성\n"
          ]
        }
      ]
    },
    {
      "cell_type": "code",
      "execution_count": null,
      "metadata": {
        "colab": {
          "base_uri": "https://localhost:8080/",
          "height": 404
        },
        "id": "8mHdvi6mZsfY",
        "outputId": "115c5f14-ed54-4ff5-c779-523c7349a7d4"
      },
      "outputs": [
        {
          "output_type": "error",
          "ename": "ModuleNotFoundError",
          "evalue": "No module named 'melodygenerator'",
          "traceback": [
            "\u001b[0;31m---------------------------------------------------------------------------\u001b[0m",
            "\u001b[0;31mModuleNotFoundError\u001b[0m                       Traceback (most recent call last)",
            "\u001b[0;32m<ipython-input-3-2ce11ce0011f>\u001b[0m in \u001b[0;36m<cell line: 7>\u001b[0;34m()\u001b[0m\n\u001b[1;32m      5\u001b[0m \u001b[0;31m#from keras.optimizers import Adam\u001b[0m\u001b[0;34m\u001b[0m\u001b[0;34m\u001b[0m\u001b[0m\n\u001b[1;32m      6\u001b[0m \u001b[0;32mfrom\u001b[0m \u001b[0mkeras\u001b[0m\u001b[0;34m.\u001b[0m\u001b[0moptimizers\u001b[0m \u001b[0;32mimport\u001b[0m \u001b[0;34m*\u001b[0m\u001b[0;34m\u001b[0m\u001b[0;34m\u001b[0m\u001b[0m\n\u001b[0;32m----> 7\u001b[0;31m \u001b[0;32mfrom\u001b[0m \u001b[0mmelodygenerator\u001b[0m \u001b[0;32mimport\u001b[0m \u001b[0mMelodyGenerator\u001b[0m\u001b[0;34m\u001b[0m\u001b[0;34m\u001b[0m\u001b[0m\n\u001b[0m\u001b[1;32m      8\u001b[0m \u001b[0;32mfrom\u001b[0m \u001b[0mmelodypreprocessor\u001b[0m \u001b[0;32mimport\u001b[0m \u001b[0mMelodyPreprocessor\u001b[0m\u001b[0;34m\u001b[0m\u001b[0;34m\u001b[0m\u001b[0m\n\u001b[1;32m      9\u001b[0m \u001b[0;32mfrom\u001b[0m \u001b[0mtransformer\u001b[0m \u001b[0;32mimport\u001b[0m \u001b[0mTransformer\u001b[0m\u001b[0;34m\u001b[0m\u001b[0;34m\u001b[0m\u001b[0m\n",
            "\u001b[0;31mModuleNotFoundError\u001b[0m: No module named 'melodygenerator'",
            "",
            "\u001b[0;31m---------------------------------------------------------------------------\u001b[0;32m\nNOTE: If your import is failing due to a missing package, you can\nmanually install dependencies using either !pip or !apt.\n\nTo view examples of installing some common dependencies, click the\n\"Open Examples\" button below.\n\u001b[0;31m---------------------------------------------------------------------------\u001b[0m\n"
          ],
          "errorDetails": {
            "actions": [
              {
                "action": "open_url",
                "actionText": "Open Examples",
                "url": "/notebooks/snippets/importing_libraries.ipynb"
              }
            ]
          }
        }
      ],
      "source": [
        "import tensorflow as tf\n",
        "#from keras.losses import SparseCategoricalCrossentropy\n",
        "from keras.losses import *\n",
        "\n",
        "#from keras.optimizers import Adam\n",
        "from keras.optimizers import *\n",
        "from melodygenerator import MelodyGenerator\n",
        "from melodypreprocessor import MelodyPreprocessor\n",
        "from transformer import Transformer"
      ]
    },
    {
      "cell_type": "code",
      "source": [
        "EPOCHS=10 #학습 세팅\n",
        "BATCH_SIZE=32\n",
        "DATA_PATH=\"dataset.json\"\n",
        "MAX_POSITIONS_IN_POSITIONAL_ENCODEING=100\n",
        "\n",
        "sparse_categorical_crossentropy=SparseCategoricalCrossentropy(\n",
        "    from_logits=True, reduction=\"none\"\n",
        ")\n",
        "optimizer=Adam()\n",
        "\n",
        "def train(train_dataset,transformer,epochs):\n",
        "  print(\"Training the model...\")\n",
        "  for epoch in range(epochs):\n",
        "    total_loss=0\n",
        "    for (batch,(input,target)) in enumerate(train_dataset):\n",
        "      batch_loss=_train_step(input,target,transformer)\n",
        "      total_loss+=batch_loss\n",
        "      print(\n",
        "        f\"Epoch {epoch + 1} Batch {batch + 1} Loss {batch_loss.numpy()}\"\n",
        "      )\n",
        "\n",
        "@tf.function\n",
        "def _train_step(input,target,transformer):\n",
        "  with tf.GradientTape() as tape:\n",
        "    predictions=transformer(input,target_input,True, None,None,None)\n",
        "    loss=_calculate_loss(target_real,predictions)\n",
        "\n",
        "  gradients=tape.gradient(loss,transformer.trainable_variables)\n",
        "  gradient_variable_pairs=zip(gradients,transformer.trainable_variables)\n",
        "  optimizer.apply_gradients(gradient_variable_pairs)\n",
        "  return loss\n",
        "\n",
        "def _calculate_loss(real,pred): #실제값, 예측값을 가지고 손실값 계산\n",
        "  loss_=sparse_categorical_crossentropy(real,pred)\n",
        "  boolean_mask=tf.math.equal(real,0)\n",
        "  mask=tf.math.logical_not(boolean_mask)\n",
        "\n",
        "  mask=tf.cast(mask,dtype=loss_.dtype)\n",
        "\n",
        "  loss_*=mask\n",
        "\n",
        "  total_loss=tf.reduce_sum(loss_)\n",
        "  number_of_non_padded_elements=tf.reduce_sum(mask)\n",
        "  average_loss=total_loss/number_of_non_padded_elements\n",
        "  return average_loss\n",
        "\n",
        "def _right_pad_sequence_once(sequence):\n",
        "  return tf.pad(sequence,[[0,0],[0,1]],\"constant\")\n",
        "\n",
        "if __name__==\"__main__\":\n",
        "  melody_preprocessor=MelodyPreprocessor(DATA_PATH,batch_size=BATCH_SIZE)\n",
        "  train_dataset=melody_preprocessor.create_training_dataset()\n",
        "  vocab_size=melody_preprocessor.number_of_tokens_with_padding\n",
        "\n",
        "  transformer_model=Transformer(\n",
        "      num_layers=2,\n",
        "      d_model=64,\n",
        "      num_heads=2,\n",
        "      d_feedforward=128,\n",
        "      input_vocab_size=vocab_size,\n",
        "      target_vocab_size=vocab_size,\n",
        "      max_num_positions_in_pe_encoder=MAX_POSITIONS_IN_POSITIONAL_ENCODEING,\n",
        "      max_num_positions_in_pe_encoder=MAX_POSITIONS_IN_POSITIONAL_ENCODEING,\n",
        "      dropout_rate=0.1,\n",
        "  )\n",
        "  train(train_dataset,transformer_model,EPOCHS)\n",
        "  print(\"Generating a melody...\")\n",
        "  melody_generator=MelodyGenerator(\n",
        "      transformer_model,melody_preprocessor.tokenizer\n",
        "  )\n",
        "  start_sequence=[\"C4-1.0\", \"D4-1.0\", \"E4-1.0\", \"C4-1.0\"]\n",
        "  new_melody=melody_generator.generate(start_sequence)\n",
        "  print(f\"Generated melody: {new_melody}\")\n"
      ],
      "metadata": {
        "colab": {
          "base_uri": "https://localhost:8080/",
          "height": 110
        },
        "id": "kEJ_GfvNadmk",
        "outputId": "2b97e402-8098-4663-9f8b-86374f4863f1"
      },
      "execution_count": null,
      "outputs": [
        {
          "output_type": "error",
          "ename": "SyntaxError",
          "evalue": "keyword argument repeated: max_num_positions_in_pe_encoder (<ipython-input-5-f8405cfa0ab5>, line 63)",
          "traceback": [
            "\u001b[0;36m  File \u001b[0;32m\"<ipython-input-5-f8405cfa0ab5>\"\u001b[0;36m, line \u001b[0;32m63\u001b[0m\n\u001b[0;31m    max_num_positions_in_pe_encoder=MAX_POSITIONS_IN_POSITIONAL_ENCODEING,\u001b[0m\n\u001b[0m    ^\u001b[0m\n\u001b[0;31mSyntaxError\u001b[0m\u001b[0;31m:\u001b[0m keyword argument repeated: max_num_positions_in_pe_encoder\n"
          ]
        }
      ]
    }
  ]
}